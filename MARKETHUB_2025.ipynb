{
 "cells": [
  {
   "cell_type": "code",
   "execution_count": 1,
   "metadata": {},
   "outputs": [],
   "source": [
    "# PRUEBA TECNICA - MarketHub Analytics"
   ]
  },
  {
   "cell_type": "code",
   "execution_count": null,
   "metadata": {},
   "outputs": [],
   "source": [
    "## Parte 1 _ Análisis exploratorio de los datos, detección de nulos y duplicados."
   ]
  },
  {
   "cell_type": "code",
   "execution_count": 25,
   "metadata": {},
   "outputs": [],
   "source": [
    "# Importamos las librerías que necesitamos\n",
    "# Tratamiento de datos\n",
    "# -----------------------------------------------------------------------\n",
    "import pandas as pd\n",
    "import numpy as np\n",
    "import re\n",
    "import requests\n",
    "\n",
    "# Visualización\n",
    "# ------------------------------------------------------------------------------\n",
    "import matplotlib.pyplot as plt\n",
    "import seaborn as sns\n",
    "\n",
    "# Evaluar linealidad de las relaciones entre las variables y la distribución de las variables\n",
    "# ------------------------------------------------------------------------------\n",
    "import scipy.stats as st\n",
    "import scipy.stats as stats\n",
    "from scipy.stats import shapiro, poisson, chisquare, expon, kstest\n",
    "\n",
    "# Configuración\n",
    "# -----------------------------------------------------------------------\n",
    "pd.set_option('display.max_columns', None) # para poder visualizar todas las columnas de los DataFrames\n",
    "\n",
    "# Gestión de los warnings\n",
    "# -----------------------------------------------------------------------\n",
    "import warnings\n",
    "warnings.filterwarnings(\"ignore\")"
   ]
  },
  {
   "cell_type": "code",
   "execution_count": 26,
   "metadata": {},
   "outputs": [
    {
     "name": "stdout",
     "output_type": "stream",
     "text": [
      "  id_cliente nombre  apellido            ciudad\n",
      "0      C0001  Julia     López   Granada, España\n",
      "1      C0002  Elena  Martínez   Granada, España\n",
      "2      C0003  Laura   Sánchez     Lyon, Francia\n",
      "3      C0004  Marta     López  Valencia, España\n",
      "4      C0005    Ana  Martínez    París, Francia\n",
      "-----------------------------------------\n",
      "  id_venta id_producto  cantidad       fecha id_cliente\n",
      "0  V004849       P0173         4  2024-05-16      C0203\n",
      "1  V003181       P0165         9  2022-09-12      C0004\n",
      "2  V000311       P0194        10  2020-12-02      C0156\n",
      "3  V002787       P0167         1  2023-07-22      C0058\n",
      "4  V002726       P0417        10  2022-04-10      C0099\n",
      "-----------------------------------------\n",
      "  id_producto   precio          categoria  \\\n",
      "0       P0001  58.91 €           Clothing   \n",
      "1       P0002  15.67 €        Electronics   \n",
      "2       P0003  50.58 €  Sports & Outdoors   \n",
      "3       P0004  72.88 €  Sports & Outdoors   \n",
      "4       P0005  70.23 €              Books   \n",
      "\n",
      "                                         descripcion  \n",
      "0  6GJFfPug1voQYH3zfXItpbjwRA7VVT64DGtG8VnRXaJJZ0...  \n",
      "1  Ai3c6EdaRU5C0WuWl718dSYHakqGLiMJmpbVgn7iq6syGN...  \n",
      "2  yMidjq8PGxKEf6YFWfUKJN1sDhyIs2xareF0uaA4ngzUgm...  \n",
      "3  E8LBdxZItLULWZUyKPwzkjZJHD2GOSuqR7Od4DX5624ex1...  \n",
      "4  zQLYUssRkFNu2GcCd8xBPrc5xiJH5DGQ66A0X4TFU0cHea...  \n",
      "-----------------------------------------\n"
     ]
    }
   ],
   "source": [
    "# Cargamos los CSV y mostramos los 5 primeros registros de nuestros dataframe.\n",
    "df_clientes=pd.read_csv('clientes.csv')\n",
    "print(df_clientes.head())\n",
    "print(\"-----------------------------------------\")\n",
    "df_ventas=pd.read_csv('ventas.csv')\n",
    "print(df_ventas.head())\n",
    "print(\"-----------------------------------------\")\n",
    "df_productos=pd.read_csv('productos.csv')\n",
    "print(df_productos.head())\n",
    "print(\"-----------------------------------------\")"
   ]
  },
  {
   "cell_type": "code",
   "execution_count": 92,
   "metadata": {},
   "outputs": [
    {
     "name": "stdout",
     "output_type": "stream",
     "text": [
      "\n",
      "Información de los clientes:\n",
      "-------------------------------\n",
      "<class 'pandas.core.frame.DataFrame'>\n",
      "RangeIndex: 300 entries, 0 to 299\n",
      "Data columns (total 4 columns):\n",
      " #   Column      Non-Null Count  Dtype \n",
      "---  ------      --------------  ----- \n",
      " 0   id_cliente  300 non-null    object\n",
      " 1   nombre      300 non-null    object\n",
      " 2   apellido    300 non-null    object\n",
      " 3   ciudad      300 non-null    object\n",
      "dtypes: object(4)\n",
      "memory usage: 9.5+ KB\n",
      "None\n",
      "-------------------------------\n",
      "\n",
      "Las columnas de dataframe clientes son:\n",
      "Index(['id_cliente', 'nombre', 'apellido', 'ciudad'], dtype='object')\n",
      "-------------------------------\n",
      "\n",
      "Estructura datos:\n",
      "(300, 4)\n",
      "--------------------------------------------------\n",
      "\n",
      "Estadísitica básica datos:\n",
      "       id_cliente nombre   apellido         ciudad\n",
      "count         300    300        300            300\n",
      "unique        300     10         10             20\n",
      "top         C0001  María  Rodríguez  Lyon, Francia\n",
      "freq            1     42         38             24\n",
      "--------------------------------------------------\n"
     ]
    }
   ],
   "source": [
    "# Analisis explorartorio de nuestro dataframe \"clientes\"\n",
    "print(f\"\\nInformación de los clientes:\")\n",
    "print(\"-------------------------------\")\n",
    "print(df_clientes.info())\n",
    "print(\"-------------------------------\")\n",
    "print(f\"\\nLas columnas de dataframe clientes son:\")\n",
    "print(df_clientes.columns)\n",
    "print(\"-------------------------------\")\n",
    "print(f\"\\nEstructura datos:\")\n",
    "print(df_clientes.shape)\n",
    "print(\"--------------------------------------------------\")\n",
    "print(f\"\\nEstadísitica básica datos:\")\n",
    "print(df_clientes.describe())\n",
    "print(\"--------------------------------------------------\")"
   ]
  },
  {
   "cell_type": "code",
   "execution_count": 91,
   "metadata": {},
   "outputs": [
    {
     "name": "stdout",
     "output_type": "stream",
     "text": [
      "\n",
      "Informacion de las ventas:\n",
      "-------------------------------\n",
      "<class 'pandas.core.frame.DataFrame'>\n",
      "Index: 79171 entries, 0 to 79999\n",
      "Data columns (total 5 columns):\n",
      " #   Column       Non-Null Count  Dtype \n",
      "---  ------       --------------  ----- \n",
      " 0   id_venta     79171 non-null  object\n",
      " 1   id_producto  79171 non-null  object\n",
      " 2   cantidad     79171 non-null  int64 \n",
      " 3   fecha        79171 non-null  object\n",
      " 4   id_cliente   79171 non-null  object\n",
      "dtypes: int64(1), object(4)\n",
      "memory usage: 3.6+ MB\n",
      "None\n",
      "-------------------------------\n",
      "\n",
      "Las columnas de dataframe ventas son:\n",
      "Index(['id_venta', 'id_producto', 'cantidad', 'fecha', 'id_cliente'], dtype='object')\n",
      "-------------------------------\n",
      "\n",
      "Estructura datos:\n",
      "(79171, 5)\n",
      "--------------------------------------------------\n",
      "\n",
      "Estadísitica básica datos:\n",
      "           cantidad\n",
      "count  79171.000000\n",
      "mean       5.504680\n",
      "std        2.874661\n",
      "min        1.000000\n",
      "25%        3.000000\n",
      "50%        6.000000\n",
      "75%        8.000000\n",
      "max       10.000000\n",
      "--------------------------------------------------\n"
     ]
    }
   ],
   "source": [
    "# Analisis explorartorio de nuestro dataframe \"ventas\"\n",
    "print(f\"\\nInformacion de las ventas:\")\n",
    "print(\"-------------------------------\")\n",
    "print(df_ventas.info())\n",
    "print(\"-------------------------------\")\n",
    "print(f\"\\nLas columnas de dataframe ventas son:\")\n",
    "print(df_ventas.columns)\n",
    "print(\"-------------------------------\")\n",
    "print(f\"\\nEstructura datos:\")\n",
    "print(df_ventas.shape)\n",
    "print(\"--------------------------------------------------\")\n",
    "print(f\"\\nEstadísitica básica datos:\")\n",
    "print(df_ventas.describe())\n",
    "print(\"--------------------------------------------------\")"
   ]
  },
  {
   "cell_type": "code",
   "execution_count": 90,
   "metadata": {},
   "outputs": [
    {
     "name": "stdout",
     "output_type": "stream",
     "text": [
      "\n",
      "Información de los productos:\n",
      "-------------------------------\n",
      "<class 'pandas.core.frame.DataFrame'>\n",
      "RangeIndex: 600 entries, 0 to 599\n",
      "Data columns (total 4 columns):\n",
      " #   Column       Non-Null Count  Dtype  \n",
      "---  ------       --------------  -----  \n",
      " 0   id_producto  600 non-null    object \n",
      " 1   precio       600 non-null    float64\n",
      " 2   categoria    600 non-null    object \n",
      " 3   descripcion  600 non-null    object \n",
      "dtypes: float64(1), object(3)\n",
      "memory usage: 18.9+ KB\n",
      "None\n",
      "-------------------------------\n",
      "\n",
      "Las columnas de dataframe productos son:\n",
      "Index(['id_producto', 'precio', 'categoria', 'descripcion'], dtype='object')\n",
      "-------------------------------\n",
      "\n",
      "Estructura datos:\n",
      "(600, 4)\n",
      "--------------------------------------------------\n",
      "\n",
      "Estadísitica básica datos:\n",
      "           precio\n",
      "count  600.000000\n",
      "mean    48.577983\n",
      "std     27.921278\n",
      "min      1.210000\n",
      "25%     25.275000\n",
      "50%     47.800000\n",
      "75%     72.635000\n",
      "max     99.720000\n",
      "--------------------------------------------------\n"
     ]
    }
   ],
   "source": [
    "# Analisis explorartorio de nuestro dataframe \"productos\"\n",
    "print(f\"\\nInformación de los productos:\")\n",
    "print(\"-------------------------------\")\n",
    "print(df_productos.info())\n",
    "print(\"-------------------------------\")\n",
    "print(f\"\\nLas columnas de dataframe productos son:\")\n",
    "print(df_productos.columns)\n",
    "print(\"-------------------------------\")\n",
    "print(f\"\\nEstructura datos:\")\n",
    "print(df_productos.shape)\n",
    "print(\"--------------------------------------------------\")\n",
    "print(f\"\\nEstadísitica básica datos:\")\n",
    "print(df_productos.describe())\n",
    "print(\"--------------------------------------------------\")"
   ]
  },
  {
   "cell_type": "code",
   "execution_count": 7,
   "metadata": {},
   "outputs": [
    {
     "data": {
      "text/html": [
       "<div>\n",
       "<style scoped>\n",
       "    .dataframe tbody tr th:only-of-type {\n",
       "        vertical-align: middle;\n",
       "    }\n",
       "\n",
       "    .dataframe tbody tr th {\n",
       "        vertical-align: top;\n",
       "    }\n",
       "\n",
       "    .dataframe thead th {\n",
       "        text-align: right;\n",
       "    }\n",
       "</style>\n",
       "<table border=\"1\" class=\"dataframe\">\n",
       "  <thead>\n",
       "    <tr style=\"text-align: right;\">\n",
       "      <th></th>\n",
       "      <th>id_cliente</th>\n",
       "      <th>nombre</th>\n",
       "      <th>apellido</th>\n",
       "      <th>ciudad</th>\n",
       "    </tr>\n",
       "  </thead>\n",
       "  <tbody>\n",
       "    <tr>\n",
       "      <th>0</th>\n",
       "      <td>C0001</td>\n",
       "      <td>Julia</td>\n",
       "      <td>López</td>\n",
       "      <td>Granada, España</td>\n",
       "    </tr>\n",
       "    <tr>\n",
       "      <th>1</th>\n",
       "      <td>C0002</td>\n",
       "      <td>Elena</td>\n",
       "      <td>Martínez</td>\n",
       "      <td>Granada, España</td>\n",
       "    </tr>\n",
       "    <tr>\n",
       "      <th>2</th>\n",
       "      <td>C0003</td>\n",
       "      <td>Laura</td>\n",
       "      <td>Sánchez</td>\n",
       "      <td>Lyon, Francia</td>\n",
       "    </tr>\n",
       "    <tr>\n",
       "      <th>3</th>\n",
       "      <td>C0004</td>\n",
       "      <td>Marta</td>\n",
       "      <td>López</td>\n",
       "      <td>Valencia, España</td>\n",
       "    </tr>\n",
       "    <tr>\n",
       "      <th>4</th>\n",
       "      <td>C0005</td>\n",
       "      <td>Ana</td>\n",
       "      <td>Martínez</td>\n",
       "      <td>París, Francia</td>\n",
       "    </tr>\n",
       "    <tr>\n",
       "      <th>...</th>\n",
       "      <td>...</td>\n",
       "      <td>...</td>\n",
       "      <td>...</td>\n",
       "      <td>...</td>\n",
       "    </tr>\n",
       "    <tr>\n",
       "      <th>295</th>\n",
       "      <td>C0296</td>\n",
       "      <td>Elena</td>\n",
       "      <td>Rodríguez</td>\n",
       "      <td>Sevilla, España</td>\n",
       "    </tr>\n",
       "    <tr>\n",
       "      <th>296</th>\n",
       "      <td>C0297</td>\n",
       "      <td>Marta</td>\n",
       "      <td>Rodríguez</td>\n",
       "      <td>Zaragoza, España</td>\n",
       "    </tr>\n",
       "    <tr>\n",
       "      <th>297</th>\n",
       "      <td>C0298</td>\n",
       "      <td>Julia</td>\n",
       "      <td>Pérez</td>\n",
       "      <td>Bilbao, España</td>\n",
       "    </tr>\n",
       "    <tr>\n",
       "      <th>298</th>\n",
       "      <td>C0299</td>\n",
       "      <td>Ana</td>\n",
       "      <td>Rodríguez</td>\n",
       "      <td>Sevilla, España</td>\n",
       "    </tr>\n",
       "    <tr>\n",
       "      <th>299</th>\n",
       "      <td>C0300</td>\n",
       "      <td>Carmen</td>\n",
       "      <td>Pérez</td>\n",
       "      <td>Aveiro, Portugal</td>\n",
       "    </tr>\n",
       "  </tbody>\n",
       "</table>\n",
       "<p>300 rows × 4 columns</p>\n",
       "</div>"
      ],
      "text/plain": [
       "    id_cliente  nombre   apellido            ciudad\n",
       "0        C0001   Julia      López   Granada, España\n",
       "1        C0002   Elena   Martínez   Granada, España\n",
       "2        C0003   Laura    Sánchez     Lyon, Francia\n",
       "3        C0004   Marta      López  Valencia, España\n",
       "4        C0005     Ana   Martínez    París, Francia\n",
       "..         ...     ...        ...               ...\n",
       "295      C0296   Elena  Rodríguez   Sevilla, España\n",
       "296      C0297   Marta  Rodríguez  Zaragoza, España\n",
       "297      C0298   Julia      Pérez    Bilbao, España\n",
       "298      C0299     Ana  Rodríguez   Sevilla, España\n",
       "299      C0300  Carmen      Pérez  Aveiro, Portugal\n",
       "\n",
       "[300 rows x 4 columns]"
      ]
     },
     "execution_count": 7,
     "metadata": {},
     "output_type": "execute_result"
    }
   ],
   "source": [
    "# A continuación procedemos con el proceso E.T.L\n",
    "df_clientes             # Observamos que en la columna ciudad se encuentran : ciudad y pais.\n"
   ]
  },
  {
   "cell_type": "code",
   "execution_count": null,
   "metadata": {},
   "outputs": [
    {
     "name": "stdout",
     "output_type": "stream",
     "text": [
      "    id_cliente  nombre   apellido    ciudad      pais\n",
      "0        C0001   Julia      López   Granada    España\n",
      "1        C0002   Elena   Martínez   Granada    España\n",
      "2        C0003   Laura    Sánchez      Lyon   Francia\n",
      "3        C0004   Marta      López  Valencia    España\n",
      "4        C0005     Ana   Martínez     París   Francia\n",
      "..         ...     ...        ...       ...       ...\n",
      "295      C0296   Elena  Rodríguez   Sevilla    España\n",
      "296      C0297   Marta  Rodríguez  Zaragoza    España\n",
      "297      C0298   Julia      Pérez    Bilbao    España\n",
      "298      C0299     Ana  Rodríguez   Sevilla    España\n",
      "299      C0300  Carmen      Pérez    Aveiro  Portugal\n",
      "\n",
      "[300 rows x 5 columns]\n"
     ]
    }
   ],
   "source": [
    "# Dividimos en  2 la columna ciudad: ciudad y pais. Mostramos el resultado.\n",
    "df_clientes[['ciudad', 'pais']] = df_clientes['ciudad'].str.split(', ', expand=True)\n",
    "print(df_clientes)"
   ]
  },
  {
   "cell_type": "code",
   "execution_count": 35,
   "metadata": {},
   "outputs": [],
   "source": [
    "pd.set_option('display.max_columns', None) # para poder visualizar todas las columnas de los DataFrames"
   ]
  },
  {
   "cell_type": "code",
   "execution_count": 8,
   "metadata": {},
   "outputs": [
    {
     "name": "stdout",
     "output_type": "stream",
     "text": [
      "      id_venta id_producto  cantidad       fecha id_cliente\n",
      "0      V004849       P0173         4  2024-05-16      C0203\n",
      "1      V003181       P0165         9  2022-09-12      C0004\n",
      "2      V000311       P0194        10  2020-12-02      C0156\n",
      "3      V002787       P0167         1  2023-07-22      C0058\n",
      "4      V002726       P0417        10  2022-04-10      C0099\n",
      "...        ...         ...       ...         ...        ...\n",
      "79995  V005600       P0264         7  2023-02-26      C0167\n",
      "79996  V003626       P0564         1  2024-01-20      C0143\n",
      "79997  V005697       P0544         4  2023-01-21      C0147\n",
      "79998  V005529       P0414         4  2023-09-02      C0226\n",
      "79999  V004788       P0589         9  2020-01-03      C0222\n",
      "\n",
      "[80000 rows x 5 columns]\n"
     ]
    }
   ],
   "source": [
    "# A continuación hacemos lo mismo para df_productos\n",
    "print(df_ventas)           "
   ]
  },
  {
   "cell_type": "code",
   "execution_count": null,
   "metadata": {},
   "outputs": [],
   "source": [
    "# A continuación procedemos con la exploración, limpieza y transformación de los datos\n",
    "df_productos # Observamos el icono del euro junto al precio"
   ]
  },
  {
   "cell_type": "code",
   "execution_count": null,
   "metadata": {},
   "outputs": [],
   "source": [
    "## En df_productos, quitar el símbolo de euro del precio y ponerlo en una columna adicional\n",
    "df_productos[['precio','moneda']] = df_productos['precio'].str.split(' ', expand=True)\n",
    "print(df_productos)"
   ]
  },
  {
   "cell_type": "code",
   "execution_count": null,
   "metadata": {},
   "outputs": [],
   "source": [
    "# Cambiamos el tipo de dato de la columna 'precio' de texto  a float.\n",
    "df_productos['precio'] = df_productos['precio'].astype(float)\n",
    "print(df_productos['precio'])"
   ]
  },
  {
   "cell_type": "code",
   "execution_count": null,
   "metadata": {},
   "outputs": [],
   "source": [
    "# Eliminar la columna moneda dado que no nos aporta nada.\n",
    "df_productos.drop(columns=[\"moneda\"], inplace=True, errors='ignore')\n",
    "print(df_productos)"
   ]
  },
  {
   "cell_type": "code",
   "execution_count": 37,
   "metadata": {},
   "outputs": [
    {
     "name": "stdout",
     "output_type": "stream",
     "text": [
      "['Clothing' 'Electronics' 'Sports & Outdoors' 'Books' 'Home & Kitchen']\n",
      "------------------------------\n"
     ]
    }
   ],
   "source": [
    "# Mostramos los elementos que tenemos en categoria dentro df_producto\n",
    "print(df_productos['categoria'].unique())\n",
    "print(\"------------------------------\")"
   ]
  },
  {
   "cell_type": "code",
   "execution_count": null,
   "metadata": {},
   "outputs": [],
   "source": [
    "# Para mostrar todos los resultados de nuestos df\n",
    "pd.set_option('display.max_rows', None)  # Para mostrar todas las filas de mi dataset\n",
    "pd.set_option('display.max_columns', None) "
   ]
  },
  {
   "cell_type": "code",
   "execution_count": null,
   "metadata": {},
   "outputs": [
    {
     "name": "stdout",
     "output_type": "stream",
     "text": [
      "\n",
      "Los valores nulos de mi dataframe por columna son\n",
      "id_venta       0.0\n",
      "id_producto    0.0\n",
      "cantidad       0.0\n",
      "fecha          0.0\n",
      "id_cliente     0.0\n",
      "dtype: float64\n",
      "-----------------------------\n",
      "id_cliente    0.0\n",
      "nombre        0.0\n",
      "apellido      0.0\n",
      "ciudad        0.0\n",
      "dtype: float64\n",
      "-----------------------------\n",
      "id_producto    0.0\n",
      "precio         0.0\n",
      "categoria      0.0\n",
      "descripcion    0.0\n",
      "dtype: float64\n",
      "\n",
      "No tenemos valores nuelos en df_productos,df_clientes y df_ventas\n"
     ]
    }
   ],
   "source": [
    "# Creamos una función para explorar los valores nulos de nuestro csv. \n",
    "def ver_nulos(dataframe):\n",
    "    return (dataframe.isnull().sum().sort_values(ascending=False) / len(dataframe))\n",
    "\n",
    "nulos_ventas = ver_nulos(df_ventas)\n",
    "nulos_clientes= ver_nulos(df_clientes)\n",
    "nulos_productos = ver_nulos(df_productos)\n",
    "print(f\"\\nLos valores nulos de mi dataframe por columna son\")\n",
    "print(nulos_ventas)\n",
    "print(\"-----------------------------\")\n",
    "print(nulos_clientes)\n",
    "print(\"-----------------------------\")\n",
    "print(nulos_productos)\n",
    "print(f\"\\nNo tenemos valores nulos en df_productos,df_clientes y df_ventas\")\n",
    "print(f\"\\nSi los tuvieramos valores nuelos en df_productos,df_clientes y df_ventas\")"
   ]
  },
  {
   "cell_type": "code",
   "execution_count": 75,
   "metadata": {},
   "outputs": [
    {
     "name": "stdout",
     "output_type": "stream",
     "text": [
      "\n",
      "La tabla df_ventas tiene :0\n",
      "-----------------------------------\n",
      "\n",
      "La tabla df_productos tiene :0\n",
      "-----------------------------------\n",
      "\n",
      "La tabla df_clientes tiene :0\n"
     ]
    }
   ],
   "source": [
    "# Exploramos para detectar los valores duplicados de nuestros csvs.\n",
    "df_duplicado_ventas=df_ventas.duplicated().sum()\n",
    "print(f\"\\nLa tabla df_ventas tiene :{df_duplicado_ventas}\")             # observamos que solo df_ventas tiene duplicados\n",
    "df_duplicado_productos=df_productos.duplicated().sum()\n",
    "print(\"-----------------------------------\")\n",
    "print(f\"\\nLa tabla df_productos tiene :{df_duplicado_productos}\")\n",
    "print(\"-----------------------------------\")\n",
    "df_duplicado_clientes=df_clientes.duplicated().sum()\n",
    "print(f\"\\nLa tabla df_clientes tiene :{df_duplicado_clientes}\")\n"
   ]
  },
  {
   "cell_type": "code",
   "execution_count": null,
   "metadata": {},
   "outputs": [],
   "source": [
    "# Procedemos a eliminar los 80 duplicados de  df_ventas.\n",
    "df_eliminados = df_ventas.drop_duplicates(keep='first')\n",
    "print(f\"\\nEl numero de duplicados tras la eliminación es:\")\n",
    "numero_duplicados=df_eliminados.duplicated().sum()\n",
    "print(numero_duplicados)\n",
    "print(\"-------------------------------------\")\n",
    "print(df_eliminados)"
   ]
  },
  {
   "cell_type": "code",
   "execution_count": 86,
   "metadata": {},
   "outputs": [
    {
     "name": "stdout",
     "output_type": "stream",
     "text": [
      "------------------clientes--------------------\n",
      "El DataFrame tiene 0 filas duplicadas.\n",
      "------------------productos-------------------\n",
      "El DataFrame tiene 0 filas duplicadas.\n",
      "------------------ventas----------------------\n",
      "El DataFrame tiene 71920 filas duplicadas.\n"
     ]
    }
   ],
   "source": [
    "# Determinamos el número de duplicados para id_producto, id_cliente e id_ventas\n",
    "print(\"------------------clientes--------------------\")\n",
    "numeros_duplicados_c = len(df_clientes[df_clientes.duplicated(subset=['id_cliente'])])\n",
    "print(f\"El DataFrame tiene {numeros_duplicados_c} filas duplicadas.\")\n",
    "\n",
    "print('------------------productos-------------------')\n",
    "numeros_duplicados_p = len(df_productos[df_productos.duplicated(subset=['id_producto'])])\n",
    "print(f\"El DataFrame tiene {numeros_duplicados_p} filas duplicadas.\")\n",
    "print('------------------ventas----------------------')\n",
    "numeros_duplicados_v= len(df_ventas[df_ventas.duplicated(subset=['id_venta'])])\n",
    "print(f\"El DataFrame tiene {numeros_duplicados_v} filas duplicadas.\")"
   ]
  },
  {
   "cell_type": "code",
   "execution_count": null,
   "metadata": {},
   "outputs": [],
   "source": [
    "# Ordenamos el df_ventas por id_ventas de manera ascendente\n",
    "df_ventas.sort_values(by='id_venta', ascending=True)"
   ]
  },
  {
   "cell_type": "code",
   "execution_count": 89,
   "metadata": {},
   "outputs": [
    {
     "name": "stdout",
     "output_type": "stream",
     "text": [
      "El DataFrame tiene 0 filas duplicadas.\n"
     ]
    }
   ],
   "source": [
    "# Eliminar duplicados y mantener la última aparición de cada combinación de 'id_venta' y 'id_producto'\n",
    "df_ventas.drop_duplicates(subset=['id_venta', 'id_producto'], keep='last', inplace=True)\n",
    "\n",
    "# Contar el número de filas duplicadas después de la eliminación\n",
    "num_duplicados = len(df_ventas[df_ventas.duplicated(subset=['id_venta', 'id_producto'])])\n",
    "\n",
    "# Imprimir el número de filas duplicadas\n",
    "print(f\"El DataFrame tiene {num_duplicados} filas duplicadas.\")\n"
   ]
  },
  {
   "cell_type": "code",
   "execution_count": null,
   "metadata": {},
   "outputs": [],
   "source": [
    "## Parte _2 Visualizacion datos"
   ]
  }
 ],
 "metadata": {
  "kernelspec": {
   "display_name": "base",
   "language": "python",
   "name": "python3"
  },
  "language_info": {
   "codemirror_mode": {
    "name": "ipython",
    "version": 3
   },
   "file_extension": ".py",
   "mimetype": "text/x-python",
   "name": "python",
   "nbconvert_exporter": "python",
   "pygments_lexer": "ipython3",
   "version": "3.11.5"
  }
 },
 "nbformat": 4,
 "nbformat_minor": 2
}
